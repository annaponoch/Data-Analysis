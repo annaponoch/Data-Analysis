{
 "cells": [
  {
   "cell_type": "code",
   "execution_count": 1,
   "id": "51936197",
   "metadata": {},
   "outputs": [],
   "source": [
    "import pandas as pd\n",
    "unames=['UserID','MovieID','Rating','Timestamp']\n",
    "data_ratings=pd.read_table(\".\\\\ml-1m\\\\ratings.dat\", sep= \"::\", engine='python', names=unames)"
   ]
  },
  {
   "cell_type": "code",
   "execution_count": 2,
   "id": "e0f97c10",
   "metadata": {},
   "outputs": [
    {
     "data": {
      "text/html": [
       "<div>\n",
       "<style scoped>\n",
       "    .dataframe tbody tr th:only-of-type {\n",
       "        vertical-align: middle;\n",
       "    }\n",
       "\n",
       "    .dataframe tbody tr th {\n",
       "        vertical-align: top;\n",
       "    }\n",
       "\n",
       "    .dataframe thead th {\n",
       "        text-align: right;\n",
       "    }\n",
       "</style>\n",
       "<table border=\"1\" class=\"dataframe\">\n",
       "  <thead>\n",
       "    <tr style=\"text-align: right;\">\n",
       "      <th></th>\n",
       "      <th>UserID</th>\n",
       "      <th>MovieID</th>\n",
       "      <th>Rating</th>\n",
       "      <th>Timestamp</th>\n",
       "    </tr>\n",
       "  </thead>\n",
       "  <tbody>\n",
       "    <tr>\n",
       "      <th>0</th>\n",
       "      <td>1</td>\n",
       "      <td>1193</td>\n",
       "      <td>5</td>\n",
       "      <td>978300760</td>\n",
       "    </tr>\n",
       "    <tr>\n",
       "      <th>1</th>\n",
       "      <td>1</td>\n",
       "      <td>661</td>\n",
       "      <td>3</td>\n",
       "      <td>978302109</td>\n",
       "    </tr>\n",
       "    <tr>\n",
       "      <th>2</th>\n",
       "      <td>1</td>\n",
       "      <td>914</td>\n",
       "      <td>3</td>\n",
       "      <td>978301968</td>\n",
       "    </tr>\n",
       "    <tr>\n",
       "      <th>3</th>\n",
       "      <td>1</td>\n",
       "      <td>3408</td>\n",
       "      <td>4</td>\n",
       "      <td>978300275</td>\n",
       "    </tr>\n",
       "    <tr>\n",
       "      <th>4</th>\n",
       "      <td>1</td>\n",
       "      <td>2355</td>\n",
       "      <td>5</td>\n",
       "      <td>978824291</td>\n",
       "    </tr>\n",
       "    <tr>\n",
       "      <th>...</th>\n",
       "      <td>...</td>\n",
       "      <td>...</td>\n",
       "      <td>...</td>\n",
       "      <td>...</td>\n",
       "    </tr>\n",
       "    <tr>\n",
       "      <th>1000204</th>\n",
       "      <td>6040</td>\n",
       "      <td>1091</td>\n",
       "      <td>1</td>\n",
       "      <td>956716541</td>\n",
       "    </tr>\n",
       "    <tr>\n",
       "      <th>1000205</th>\n",
       "      <td>6040</td>\n",
       "      <td>1094</td>\n",
       "      <td>5</td>\n",
       "      <td>956704887</td>\n",
       "    </tr>\n",
       "    <tr>\n",
       "      <th>1000206</th>\n",
       "      <td>6040</td>\n",
       "      <td>562</td>\n",
       "      <td>5</td>\n",
       "      <td>956704746</td>\n",
       "    </tr>\n",
       "    <tr>\n",
       "      <th>1000207</th>\n",
       "      <td>6040</td>\n",
       "      <td>1096</td>\n",
       "      <td>4</td>\n",
       "      <td>956715648</td>\n",
       "    </tr>\n",
       "    <tr>\n",
       "      <th>1000208</th>\n",
       "      <td>6040</td>\n",
       "      <td>1097</td>\n",
       "      <td>4</td>\n",
       "      <td>956715569</td>\n",
       "    </tr>\n",
       "  </tbody>\n",
       "</table>\n",
       "<p>1000209 rows × 4 columns</p>\n",
       "</div>"
      ],
      "text/plain": [
       "         UserID  MovieID  Rating  Timestamp\n",
       "0             1     1193       5  978300760\n",
       "1             1      661       3  978302109\n",
       "2             1      914       3  978301968\n",
       "3             1     3408       4  978300275\n",
       "4             1     2355       5  978824291\n",
       "...         ...      ...     ...        ...\n",
       "1000204    6040     1091       1  956716541\n",
       "1000205    6040     1094       5  956704887\n",
       "1000206    6040      562       5  956704746\n",
       "1000207    6040     1096       4  956715648\n",
       "1000208    6040     1097       4  956715569\n",
       "\n",
       "[1000209 rows x 4 columns]"
      ]
     },
     "execution_count": 2,
     "metadata": {},
     "output_type": "execute_result"
    }
   ],
   "source": [
    "data_ratings"
   ]
  },
  {
   "cell_type": "code",
   "execution_count": 3,
   "id": "90714812",
   "metadata": {},
   "outputs": [],
   "source": [
    "unames = ['UserId', 'Gender', 'Age', 'Occupation', 'Zip-code']\n",
    "data_users = pd.read_table(\".\\\\ml-1m\\\\users.dat\", sep= \"::\", engine='python', names=unames)"
   ]
  },
  {
   "cell_type": "code",
   "execution_count": 4,
   "id": "3ee2c23a",
   "metadata": {},
   "outputs": [
    {
     "data": {
      "text/html": [
       "<div>\n",
       "<style scoped>\n",
       "    .dataframe tbody tr th:only-of-type {\n",
       "        vertical-align: middle;\n",
       "    }\n",
       "\n",
       "    .dataframe tbody tr th {\n",
       "        vertical-align: top;\n",
       "    }\n",
       "\n",
       "    .dataframe thead th {\n",
       "        text-align: right;\n",
       "    }\n",
       "</style>\n",
       "<table border=\"1\" class=\"dataframe\">\n",
       "  <thead>\n",
       "    <tr style=\"text-align: right;\">\n",
       "      <th></th>\n",
       "      <th>UserId</th>\n",
       "      <th>Gender</th>\n",
       "      <th>Age</th>\n",
       "      <th>Occupation</th>\n",
       "      <th>Zip-code</th>\n",
       "    </tr>\n",
       "  </thead>\n",
       "  <tbody>\n",
       "    <tr>\n",
       "      <th>0</th>\n",
       "      <td>1</td>\n",
       "      <td>F</td>\n",
       "      <td>1</td>\n",
       "      <td>10</td>\n",
       "      <td>48067</td>\n",
       "    </tr>\n",
       "    <tr>\n",
       "      <th>1</th>\n",
       "      <td>2</td>\n",
       "      <td>M</td>\n",
       "      <td>56</td>\n",
       "      <td>16</td>\n",
       "      <td>70072</td>\n",
       "    </tr>\n",
       "    <tr>\n",
       "      <th>2</th>\n",
       "      <td>3</td>\n",
       "      <td>M</td>\n",
       "      <td>25</td>\n",
       "      <td>15</td>\n",
       "      <td>55117</td>\n",
       "    </tr>\n",
       "    <tr>\n",
       "      <th>3</th>\n",
       "      <td>4</td>\n",
       "      <td>M</td>\n",
       "      <td>45</td>\n",
       "      <td>7</td>\n",
       "      <td>02460</td>\n",
       "    </tr>\n",
       "    <tr>\n",
       "      <th>4</th>\n",
       "      <td>5</td>\n",
       "      <td>M</td>\n",
       "      <td>25</td>\n",
       "      <td>20</td>\n",
       "      <td>55455</td>\n",
       "    </tr>\n",
       "    <tr>\n",
       "      <th>...</th>\n",
       "      <td>...</td>\n",
       "      <td>...</td>\n",
       "      <td>...</td>\n",
       "      <td>...</td>\n",
       "      <td>...</td>\n",
       "    </tr>\n",
       "    <tr>\n",
       "      <th>6035</th>\n",
       "      <td>6036</td>\n",
       "      <td>F</td>\n",
       "      <td>25</td>\n",
       "      <td>15</td>\n",
       "      <td>32603</td>\n",
       "    </tr>\n",
       "    <tr>\n",
       "      <th>6036</th>\n",
       "      <td>6037</td>\n",
       "      <td>F</td>\n",
       "      <td>45</td>\n",
       "      <td>1</td>\n",
       "      <td>76006</td>\n",
       "    </tr>\n",
       "    <tr>\n",
       "      <th>6037</th>\n",
       "      <td>6038</td>\n",
       "      <td>F</td>\n",
       "      <td>56</td>\n",
       "      <td>1</td>\n",
       "      <td>14706</td>\n",
       "    </tr>\n",
       "    <tr>\n",
       "      <th>6038</th>\n",
       "      <td>6039</td>\n",
       "      <td>F</td>\n",
       "      <td>45</td>\n",
       "      <td>0</td>\n",
       "      <td>01060</td>\n",
       "    </tr>\n",
       "    <tr>\n",
       "      <th>6039</th>\n",
       "      <td>6040</td>\n",
       "      <td>M</td>\n",
       "      <td>25</td>\n",
       "      <td>6</td>\n",
       "      <td>11106</td>\n",
       "    </tr>\n",
       "  </tbody>\n",
       "</table>\n",
       "<p>6040 rows × 5 columns</p>\n",
       "</div>"
      ],
      "text/plain": [
       "      UserId Gender  Age  Occupation Zip-code\n",
       "0          1      F    1          10    48067\n",
       "1          2      M   56          16    70072\n",
       "2          3      M   25          15    55117\n",
       "3          4      M   45           7    02460\n",
       "4          5      M   25          20    55455\n",
       "...      ...    ...  ...         ...      ...\n",
       "6035    6036      F   25          15    32603\n",
       "6036    6037      F   45           1    76006\n",
       "6037    6038      F   56           1    14706\n",
       "6038    6039      F   45           0    01060\n",
       "6039    6040      M   25           6    11106\n",
       "\n",
       "[6040 rows x 5 columns]"
      ]
     },
     "execution_count": 4,
     "metadata": {},
     "output_type": "execute_result"
    }
   ],
   "source": [
    "data_users"
   ]
  },
  {
   "cell_type": "code",
   "execution_count": 5,
   "id": "2d4a0255",
   "metadata": {},
   "outputs": [],
   "source": [
    "unames = ['MovieID','Title','Genres']\n",
    "data_movies = pd.read_table(\".\\\\ml-1m\\\\movies.dat\", sep=\"::\", engine='python', names=unames, encoding='ISO-8859-1')"
   ]
  },
  {
   "cell_type": "code",
   "execution_count": 6,
   "id": "3bbb761f",
   "metadata": {},
   "outputs": [
    {
     "data": {
      "text/html": [
       "<div>\n",
       "<style scoped>\n",
       "    .dataframe tbody tr th:only-of-type {\n",
       "        vertical-align: middle;\n",
       "    }\n",
       "\n",
       "    .dataframe tbody tr th {\n",
       "        vertical-align: top;\n",
       "    }\n",
       "\n",
       "    .dataframe thead th {\n",
       "        text-align: right;\n",
       "    }\n",
       "</style>\n",
       "<table border=\"1\" class=\"dataframe\">\n",
       "  <thead>\n",
       "    <tr style=\"text-align: right;\">\n",
       "      <th></th>\n",
       "      <th>MovieID</th>\n",
       "      <th>Title</th>\n",
       "      <th>Genres</th>\n",
       "    </tr>\n",
       "  </thead>\n",
       "  <tbody>\n",
       "    <tr>\n",
       "      <th>0</th>\n",
       "      <td>1</td>\n",
       "      <td>Toy Story (1995)</td>\n",
       "      <td>Animation|Children's|Comedy</td>\n",
       "    </tr>\n",
       "    <tr>\n",
       "      <th>1</th>\n",
       "      <td>2</td>\n",
       "      <td>Jumanji (1995)</td>\n",
       "      <td>Adventure|Children's|Fantasy</td>\n",
       "    </tr>\n",
       "    <tr>\n",
       "      <th>2</th>\n",
       "      <td>3</td>\n",
       "      <td>Grumpier Old Men (1995)</td>\n",
       "      <td>Comedy|Romance</td>\n",
       "    </tr>\n",
       "    <tr>\n",
       "      <th>3</th>\n",
       "      <td>4</td>\n",
       "      <td>Waiting to Exhale (1995)</td>\n",
       "      <td>Comedy|Drama</td>\n",
       "    </tr>\n",
       "    <tr>\n",
       "      <th>4</th>\n",
       "      <td>5</td>\n",
       "      <td>Father of the Bride Part II (1995)</td>\n",
       "      <td>Comedy</td>\n",
       "    </tr>\n",
       "    <tr>\n",
       "      <th>...</th>\n",
       "      <td>...</td>\n",
       "      <td>...</td>\n",
       "      <td>...</td>\n",
       "    </tr>\n",
       "    <tr>\n",
       "      <th>3878</th>\n",
       "      <td>3948</td>\n",
       "      <td>Meet the Parents (2000)</td>\n",
       "      <td>Comedy</td>\n",
       "    </tr>\n",
       "    <tr>\n",
       "      <th>3879</th>\n",
       "      <td>3949</td>\n",
       "      <td>Requiem for a Dream (2000)</td>\n",
       "      <td>Drama</td>\n",
       "    </tr>\n",
       "    <tr>\n",
       "      <th>3880</th>\n",
       "      <td>3950</td>\n",
       "      <td>Tigerland (2000)</td>\n",
       "      <td>Drama</td>\n",
       "    </tr>\n",
       "    <tr>\n",
       "      <th>3881</th>\n",
       "      <td>3951</td>\n",
       "      <td>Two Family House (2000)</td>\n",
       "      <td>Drama</td>\n",
       "    </tr>\n",
       "    <tr>\n",
       "      <th>3882</th>\n",
       "      <td>3952</td>\n",
       "      <td>Contender, The (2000)</td>\n",
       "      <td>Drama|Thriller</td>\n",
       "    </tr>\n",
       "  </tbody>\n",
       "</table>\n",
       "<p>3883 rows × 3 columns</p>\n",
       "</div>"
      ],
      "text/plain": [
       "      MovieID                               Title  \\\n",
       "0           1                    Toy Story (1995)   \n",
       "1           2                      Jumanji (1995)   \n",
       "2           3             Grumpier Old Men (1995)   \n",
       "3           4            Waiting to Exhale (1995)   \n",
       "4           5  Father of the Bride Part II (1995)   \n",
       "...       ...                                 ...   \n",
       "3878     3948             Meet the Parents (2000)   \n",
       "3879     3949          Requiem for a Dream (2000)   \n",
       "3880     3950                    Tigerland (2000)   \n",
       "3881     3951             Two Family House (2000)   \n",
       "3882     3952               Contender, The (2000)   \n",
       "\n",
       "                            Genres  \n",
       "0      Animation|Children's|Comedy  \n",
       "1     Adventure|Children's|Fantasy  \n",
       "2                   Comedy|Romance  \n",
       "3                     Comedy|Drama  \n",
       "4                           Comedy  \n",
       "...                            ...  \n",
       "3878                        Comedy  \n",
       "3879                         Drama  \n",
       "3880                         Drama  \n",
       "3881                         Drama  \n",
       "3882                Drama|Thriller  \n",
       "\n",
       "[3883 rows x 3 columns]"
      ]
     },
     "execution_count": 6,
     "metadata": {},
     "output_type": "execute_result"
    }
   ],
   "source": [
    "data_movies"
   ]
  },
  {
   "cell_type": "code",
   "execution_count": 9,
   "id": "af28e8b3",
   "metadata": {},
   "outputs": [],
   "source": [
    "usersRatings = data_ratings.merge(data_users, left_on=\"UserID\", right_on=\"UserId\")\n",
    "dataMerged = usersRatings.merge(data_movies, left_on=\"MovieID\", right_on=\"MovieID\")"
   ]
  },
  {
   "cell_type": "code",
   "execution_count": 14,
   "id": "d3fc1995",
   "metadata": {},
   "outputs": [],
   "source": [
    "raitings1_17 = dataMerged.query(\"Age >= 1 & Age <= 17\")                            \n",
    "raitings18_24 = dataMerged.query(\"Age >= 18 & Age <= 24\")           \n",
    "raitings25_34 = dataMerged.query(\"Age >= 25 & Age <= 34\")          \n",
    "raitings35_44 = dataMerged.query(\"Age >= 35 & Age <= 44\")\n",
    "raitings45_49 = dataMerged.query(\"Age >= 45 & Age <= 49\") \n",
    "raitings50_55 = dataMerged.query(\"Age >= 50 & Age <= 55\")\n",
    "raitings56 = dataMerged.query(\"Age >= 56\")"
   ]
  },
  {
   "cell_type": "code",
   "execution_count": 15,
   "id": "11075b14",
   "metadata": {},
   "outputs": [],
   "source": [
    "maleData=dataMerged[dataMerged['Gender']=='M'].sort_values('Rating', ascending=False)\n",
    "femaleData=dataMerged[dataMerged['Gender']=='F'].sort_values('Rating', ascending=False)"
   ]
  },
  {
   "cell_type": "code",
   "execution_count": 16,
   "id": "b55197f3",
   "metadata": {},
   "outputs": [
    {
     "name": "stdout",
     "output_type": "stream",
     "text": [
      "                                                    Rating\n",
      "Title                                                     \n",
      "Matrix, The (1999)                                     368\n",
      "Sixth Sense, The (1999)                                335\n",
      "Star Wars: Episode IV - A New Hope (1977)              327\n",
      "Star Wars: Episode VI - Return of the Jedi (1983)      315\n",
      "Star Wars: Episode V - The Empire Strikes Back ...     308\n",
      "Saving Private Ryan (1998)                             302\n",
      "American Beauty (1999)                                 287\n",
      "Toy Story (1995)                                       280\n",
      "Men in Black (1997)                                    270\n",
      "Toy Story 2 (1999)                                     264\n"
     ]
    }
   ],
   "source": [
    "print(raitings1_17[raitings1_17['Gender']=='M'].groupby(['Title'])[['Rating']].sum().sort_values(by=['Rating'], ascending=False).head(10))"
   ]
  },
  {
   "cell_type": "code",
   "execution_count": 17,
   "id": "522b572b",
   "metadata": {},
   "outputs": [
    {
     "name": "stdout",
     "output_type": "stream",
     "text": [
      "                                   Rating\n",
      "Title                                    \n",
      "Toy Story (1995)                      159\n",
      "Toy Story 2 (1999)                    152\n",
      "Shakespeare in Love (1998)            141\n",
      "Aladdin (1992)                        136\n",
      "Sixth Sense, The (1999)               131\n",
      "Forrest Gump (1994)                   128\n",
      "Bug's Life, A (1998)                  124\n",
      "E.T. the Extra-Terrestrial (1982)     122\n",
      "American Beauty (1999)                121\n",
      "Babe (1995)                           116\n"
     ]
    }
   ],
   "source": [
    "print(raitings1_17[raitings1_17['Gender']=='F'].groupby(['Title'])[['Rating']].sum().sort_values(by=['Rating'], ascending=False).head(10))"
   ]
  },
  {
   "cell_type": "code",
   "execution_count": 19,
   "id": "05e3d680",
   "metadata": {},
   "outputs": [
    {
     "name": "stdout",
     "output_type": "stream",
     "text": [
      "                                                    Rating\n",
      "Title                                                     \n",
      "American Beauty (1999)                                2402\n",
      "Star Wars: Episode V - The Empire Strikes Back ...    2068\n",
      "Matrix, The (1999)                                    2027\n",
      "Star Wars: Episode IV - A New Hope (1977)             2015\n",
      "Star Wars: Episode VI - Return of the Jedi (1983)     1949\n",
      "Braveheart (1995)                                     1923\n",
      "Saving Private Ryan (1998)                            1874\n",
      "Terminator 2: Judgment Day (1991)                     1812\n",
      "Sixth Sense, The (1999)                               1657\n",
      "Raiders of the Lost Ark (1981)                        1647\n"
     ]
    }
   ],
   "source": [
    "print(raitings18_24[raitings18_24['Gender']=='M'].groupby(['Title'])[['Rating']].sum().sort_values(by=['Rating'], ascending=False).head(10))"
   ]
  },
  {
   "cell_type": "code",
   "execution_count": 20,
   "id": "5a8e499c",
   "metadata": {},
   "outputs": [
    {
     "name": "stdout",
     "output_type": "stream",
     "text": [
      "                                                    Rating\n",
      "Title                                                     \n",
      "American Beauty (1999)                                 831\n",
      "Shakespeare in Love (1998)                             609\n",
      "Princess Bride, The (1987)                             609\n",
      "Sixth Sense, The (1999)                                561\n",
      "Shawshank Redemption, The (1994)                       557\n",
      "Silence of the Lambs, The (1991)                       548\n",
      "Forrest Gump (1994)                                    526\n",
      "Toy Story (1995)                                       519\n",
      "Schindler's List (1993)                                514\n",
      "Star Wars: Episode V - The Empire Strikes Back ...     504\n"
     ]
    }
   ],
   "source": [
    "print(raitings18_24[raitings18_24['Gender']=='F'].groupby(['Title'])[['Rating']].sum().sort_values(by=['Rating'], ascending=False).head(10))"
   ]
  },
  {
   "cell_type": "code",
   "execution_count": 21,
   "id": "461dbd06",
   "metadata": {},
   "outputs": [
    {
     "name": "stdout",
     "output_type": "stream",
     "text": [
      "                                                    Rating\n",
      "Title                                                     \n",
      "American Beauty (1999)                                4238\n",
      "Star Wars: Episode IV - A New Hope (1977)             4148\n",
      "Star Wars: Episode V - The Empire Strikes Back ...    4140\n",
      "Matrix, The (1999)                                    3773\n",
      "Terminator 2: Judgment Day (1991)                     3664\n",
      "Star Wars: Episode VI - Return of the Jedi (1983)     3632\n",
      "Raiders of the Lost Ark (1981)                        3534\n",
      "Saving Private Ryan (1998)                            3516\n",
      "Silence of the Lambs, The (1991)                      3505\n",
      "Braveheart (1995)                                     3178\n"
     ]
    }
   ],
   "source": [
    "print(raitings25_34[raitings25_34['Gender']=='M'].groupby(['Title'])[['Rating']].sum().sort_values(by=['Rating'], ascending=False).head(10))"
   ]
  },
  {
   "cell_type": "code",
   "execution_count": 22,
   "id": "fbee22d6",
   "metadata": {},
   "outputs": [
    {
     "name": "stdout",
     "output_type": "stream",
     "text": [
      "                                                    Rating\n",
      "Title                                                     \n",
      "American Beauty (1999)                                1539\n",
      "Silence of the Lambs, The (1991)                      1197\n",
      "Shakespeare in Love (1998)                            1161\n",
      "Princess Bride, The (1987)                            1153\n",
      "Sixth Sense, The (1999)                               1096\n",
      "Fargo (1996)                                          1074\n",
      "Shawshank Redemption, The (1994)                      1073\n",
      "Star Wars: Episode V - The Empire Strikes Back ...    1023\n",
      "Star Wars: Episode IV - A New Hope (1977)             1010\n",
      "Raiders of the Lost Ark (1981)                         985\n"
     ]
    }
   ],
   "source": [
    "print(raitings25_34[raitings25_34['Gender']=='F'].groupby(['Title'])[['Rating']].sum().sort_values(by=['Rating'], ascending=False).head(10))"
   ]
  },
  {
   "cell_type": "code",
   "execution_count": 23,
   "id": "a1c86baa",
   "metadata": {},
   "outputs": [
    {
     "name": "stdout",
     "output_type": "stream",
     "text": [
      "                                                    Rating\n",
      "Title                                                     \n",
      "Star Wars: Episode IV - A New Hope (1977)             2139\n",
      "Star Wars: Episode V - The Empire Strikes Back ...    1911\n",
      "American Beauty (1999)                                1852\n",
      "Terminator 2: Judgment Day (1991)                     1802\n",
      "Saving Private Ryan (1998)                            1748\n",
      "Raiders of the Lost Ark (1981)                        1740\n",
      "Godfather, The (1972)                                 1645\n",
      "Star Wars: Episode VI - Return of the Jedi (1983)     1645\n",
      "Alien (1979)                                          1617\n",
      "Matrix, The (1999)                                    1607\n"
     ]
    }
   ],
   "source": [
    "print(raitings35_44[raitings35_44['Gender']=='M'].groupby(['Title'])[['Rating']].sum().sort_values(by=['Rating'], ascending=False).head(10))"
   ]
  },
  {
   "cell_type": "code",
   "execution_count": 24,
   "id": "08c18e13",
   "metadata": {},
   "outputs": [
    {
     "name": "stdout",
     "output_type": "stream",
     "text": [
      "                                                    Rating\n",
      "Title                                                     \n",
      "American Beauty (1999)                                 674\n",
      "Shakespeare in Love (1998)                             659\n",
      "Silence of the Lambs, The (1991)                       653\n",
      "Sixth Sense, The (1999)                                615\n",
      "Star Wars: Episode IV - A New Hope (1977)              587\n",
      "Fargo (1996)                                           575\n",
      "Star Wars: Episode V - The Empire Strikes Back ...     573\n",
      "Casablanca (1942)                                      560\n",
      "Raiders of the Lost Ark (1981)                         547\n",
      "Toy Story (1995)                                       546\n"
     ]
    }
   ],
   "source": [
    "print(raitings35_44[raitings35_44['Gender']=='F'].groupby(['Title'])[['Rating']].sum().sort_values(by=['Rating'], ascending=False).head(10))"
   ]
  },
  {
   "cell_type": "code",
   "execution_count": 25,
   "id": "0f5641e8",
   "metadata": {},
   "outputs": [
    {
     "name": "stdout",
     "output_type": "stream",
     "text": [
      "                                                    Rating\n",
      "Title                                                     \n",
      "Star Wars: Episode IV - A New Hope (1977)              779\n",
      "American Beauty (1999)                                 716\n",
      "Star Wars: Episode V - The Empire Strikes Back ...     708\n",
      "Godfather, The (1972)                                  685\n",
      "Raiders of the Lost Ark (1981)                         671\n",
      "Saving Private Ryan (1998)                             657\n",
      "Schindler's List (1993)                                644\n",
      "Jurassic Park (1993)                                   635\n",
      "Fargo (1996)                                           633\n",
      "Terminator 2: Judgment Day (1991)                      628\n"
     ]
    }
   ],
   "source": [
    "print(raitings45_49[raitings45_49['Gender']=='M'].groupby(['Title'])[['Rating']].sum().sort_values(by=['Rating'], ascending=False).head(10))"
   ]
  },
  {
   "cell_type": "code",
   "execution_count": 26,
   "id": "57394fbe",
   "metadata": {},
   "outputs": [
    {
     "name": "stdout",
     "output_type": "stream",
     "text": [
      "                                           Rating\n",
      "Title                                            \n",
      "American Beauty (1999)                        355\n",
      "Shakespeare in Love (1998)                    343\n",
      "Schindler's List (1993)                       334\n",
      "Star Wars: Episode IV - A New Hope (1977)     287\n",
      "Shawshank Redemption, The (1994)              282\n",
      "Silence of the Lambs, The (1991)              280\n",
      "Forrest Gump (1994)                           278\n",
      "Casablanca (1942)                             273\n",
      "Fargo (1996)                                  269\n",
      "E.T. the Extra-Terrestrial (1982)             267\n"
     ]
    }
   ],
   "source": [
    "print(raitings45_49[raitings45_49['Gender']=='F'].groupby(['Title'])[['Rating']].sum().sort_values(by=['Rating'], ascending=False).head(10))"
   ]
  },
  {
   "cell_type": "code",
   "execution_count": 27,
   "id": "f3de4e96",
   "metadata": {},
   "outputs": [
    {
     "name": "stdout",
     "output_type": "stream",
     "text": [
      "                                                    Rating\n",
      "Title                                                     \n",
      "American Beauty (1999)                                 756\n",
      "Star Wars: Episode IV - A New Hope (1977)              734\n",
      "Godfather, The (1972)                                  668\n",
      "Star Wars: Episode V - The Empire Strikes Back ...     651\n",
      "Terminator 2: Judgment Day (1991)                      638\n",
      "Saving Private Ryan (1998)                             638\n",
      "Fargo (1996)                                           633\n",
      "Braveheart (1995)                                      618\n",
      "Butch Cassidy and the Sundance Kid (1969)              604\n",
      "L.A. Confidential (1997)                               596\n"
     ]
    }
   ],
   "source": [
    "print(raitings50_55[raitings50_55['Gender']=='M'].groupby(['Title'])[['Rating']].sum().sort_values(by=['Rating'], ascending=False).head(10))"
   ]
  },
  {
   "cell_type": "code",
   "execution_count": 28,
   "id": "4d763022",
   "metadata": {},
   "outputs": [
    {
     "name": "stdout",
     "output_type": "stream",
     "text": [
      "                                           Rating\n",
      "Title                                            \n",
      "American Beauty (1999)                        273\n",
      "Shakespeare in Love (1998)                    254\n",
      "Fargo (1996)                                  242\n",
      "Godfather, The (1972)                         231\n",
      "Star Wars: Episode IV - A New Hope (1977)     225\n",
      "Schindler's List (1993)                       224\n",
      "L.A. Confidential (1997)                      221\n",
      "Casablanca (1942)                             217\n",
      "Shawshank Redemption, The (1994)              215\n",
      "Sixth Sense, The (1999)                       206\n"
     ]
    }
   ],
   "source": [
    "print(raitings50_55[raitings50_55['Gender']=='F'].groupby(['Title'])[['Rating']].sum().sort_values(by=['Rating'], ascending=False).head(10))"
   ]
  },
  {
   "cell_type": "code",
   "execution_count": 29,
   "id": "6ec5227d",
   "metadata": {},
   "outputs": [
    {
     "name": "stdout",
     "output_type": "stream",
     "text": [
      "                                                    Rating\n",
      "Title                                                     \n",
      "American Beauty (1999)                                 539\n",
      "Schindler's List (1993)                                435\n",
      "Godfather, The (1972)                                  415\n",
      "Saving Private Ryan (1998)                             406\n",
      "Fargo (1996)                                           401\n",
      "Star Wars: Episode IV - A New Hope (1977)              395\n",
      "Silence of the Lambs, The (1991)                       394\n",
      "Shakespeare in Love (1998)                             390\n",
      "Star Wars: Episode V - The Empire Strikes Back ...     389\n",
      "Butch Cassidy and the Sundance Kid (1969)              374\n"
     ]
    }
   ],
   "source": [
    "print(raitings56[raitings56['Gender']=='M'].groupby(['Title'])[['Rating']].sum().sort_values(by=['Rating'], ascending=False).head(10))"
   ]
  },
  {
   "cell_type": "code",
   "execution_count": 30,
   "id": "61813533",
   "metadata": {},
   "outputs": [
    {
     "name": "stdout",
     "output_type": "stream",
     "text": [
      "                                        Rating\n",
      "Title                                         \n",
      "American Beauty (1999)                     217\n",
      "Schindler's List (1993)                    198\n",
      "One Flew Over the Cuckoo's Nest (1975)     173\n",
      "Shakespeare in Love (1998)                 170\n",
      "Gone with the Wind (1939)                  168\n",
      "Shawshank Redemption, The (1994)           139\n",
      "Forrest Gump (1994)                        138\n",
      "Saving Private Ryan (1998)                 131\n",
      "Godfather, The (1972)                      130\n",
      "Wizard of Oz, The (1939)                   125\n"
     ]
    }
   ],
   "source": [
    "print(raitings56[raitings56['Gender']=='F'].groupby(['Title'])[['Rating']].sum().sort_values(by=['Rating'], ascending=False).head(10))"
   ]
  },
  {
   "cell_type": "code",
   "execution_count": null,
   "id": "f9b88d4d",
   "metadata": {},
   "outputs": [],
   "source": []
  }
 ],
 "metadata": {
  "kernelspec": {
   "display_name": "Python 3 (ipykernel)",
   "language": "python",
   "name": "python3"
  },
  "language_info": {
   "codemirror_mode": {
    "name": "ipython",
    "version": 3
   },
   "file_extension": ".py",
   "mimetype": "text/x-python",
   "name": "python",
   "nbconvert_exporter": "python",
   "pygments_lexer": "ipython3",
   "version": "3.10.4"
  }
 },
 "nbformat": 4,
 "nbformat_minor": 5
}
